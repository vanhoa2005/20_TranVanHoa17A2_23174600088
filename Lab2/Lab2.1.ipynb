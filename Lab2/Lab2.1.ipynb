{
 "cells": [
  {
   "cell_type": "code",
   "execution_count": 1,
   "metadata": {},
   "outputs": [],
   "source": [
    "import numpy as np\n",
    "# Tạo mảng nhiệt độ ngẫu nhiên với 30 ngày\n",
    "np.random.seed(42)  # Để đảm bảo kết quả có thể tái tạo lại\n",
    "nhiet_do = np.random.uniform(18, 35, 30)"
   ]
  },
  {
   "cell_type": "code",
   "execution_count": 2,
   "metadata": {},
   "outputs": [
    {
     "data": {
      "text/plain": [
       "array([ 1,  2,  3,  4,  5,  6,  8,  9, 10, 12, 13, 14, 15, 16, 17, 18, 19,\n",
       "       20, 21, 22, 23, 24, 25, 26, 27, 28, 29], dtype=int64)"
      ]
     },
     "execution_count": 2,
     "metadata": {},
     "output_type": "execute_result"
    }
   ],
   "source": [
    "condition = nhiet_do>20\n",
    "indicec = np.where(condition)\n",
    "day_indicec = indicec[0]\n",
    "\n",
    "days_above_20_separated = day_indicec+1\n",
    "days_above_20_separated"
   ]
  },
  {
   "cell_type": "code",
   "execution_count": null,
   "metadata": {},
   "outputs": [],
   "source": [
    "chenh_lech = ngay_sau - ngay_truoc\n",
    "\n",
    "dff_max = np.arange(np.abs(chenh_lech)) + 1 \n",
    "max_chenh_lech = chenh_lech[dff_max]\n",
    "\n",
    "print(\"Chênh lệch nhiệt độ cao nhất là : \",max_chenh_lech)\\\n",
    "print(\"Ngày chênh lệch cao nhất \",dff_max)\n"
   ]
  }
 ],
 "metadata": {
  "kernelspec": {
   "display_name": "Python 3",
   "language": "python",
   "name": "python3"
  },
  "language_info": {
   "codemirror_mode": {
    "name": "ipython",
    "version": 3
   },
   "file_extension": ".py",
   "mimetype": "text/x-python",
   "name": "python",
   "nbconvert_exporter": "python",
   "pygments_lexer": "ipython3",
   "version": "3.12.4"
  }
 },
 "nbformat": 4,
 "nbformat_minor": 2
}
