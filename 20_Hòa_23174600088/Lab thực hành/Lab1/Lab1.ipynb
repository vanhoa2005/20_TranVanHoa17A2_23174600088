{
 "cells": [
  {
   "cell_type": "code",
   "execution_count": 1,
   "metadata": {},
   "outputs": [
    {
     "name": "stdout",
     "output_type": "stream",
     "text": [
      "Product: Đường, Price: 500, Quantity:50\n",
      "Product: Sữa, Price: 200, Quantity:30\n"
     ]
    },
    {
     "name": "stderr",
     "output_type": "stream",
     "text": [
      "<>:20: SyntaxWarning: invalid escape sequence '\\L'\n",
      "<>:20: SyntaxWarning: invalid escape sequence '\\L'\n",
      "C:\\Users\\LAPTOP TCC\\AppData\\Local\\Temp\\ipykernel_11048\\4057301823.py:20: SyntaxWarning: invalid escape sequence '\\L'\n",
      "  path='D:/17A2KHDL/20_Hòa_23174600088\\Lab1\\products.xml'\n"
     ]
    }
   ],
   "source": [
    "import xml.etree.ElementTree as ET\n",
    "\n",
    "class XMLReader:\n",
    "    def __init__(self, file_path):\n",
    "        self.file_path = file_path\n",
    "        self.data = None\n",
    "    def read_xml(self):\n",
    "        tree = ET.parse(self.file_path)\n",
    "        self.data = tree.getroot()\n",
    "    def display_data(self):\n",
    "        \n",
    "        if self.data is not None :\n",
    "            for product in self.data.findall('product'):\n",
    "                name = product.find('name').text\n",
    "                price = product.find('price').text\n",
    "                quantity = product.find('quantity').text\n",
    "                print(f\"Product: {name}, Price: {price}, Quantity:{quantity}\")\n",
    "                \n",
    "# Sử dụng lớp XMLReader\n",
    "path='D:/17A2KHDL/20_Hòa_23174600088\\Lab1\\products.xml'\n",
    "reader = XMLReader(path)\n",
    "reader.read_xml()\n",
    "reader.display_data()"
   ]
  }
 ],
 "metadata": {
  "kernelspec": {
   "display_name": "Python 3",
   "language": "python",
   "name": "python3"
  },
  "language_info": {
   "codemirror_mode": {
    "name": "ipython",
    "version": 3
   },
   "file_extension": ".py",
   "mimetype": "text/x-python",
   "name": "python",
   "nbconvert_exporter": "python",
   "pygments_lexer": "ipython3",
   "version": "3.12.4"
  }
 },
 "nbformat": 4,
 "nbformat_minor": 2
}
