{
 "cells": [
  {
   "cell_type": "code",
   "execution_count": 1,
   "metadata": {},
   "outputs": [
    {
     "name": "stdout",
     "output_type": "stream",
     "text": [
      "Dữ liệu nhiệt độ trong tháng: [17.22 15.02 31.3  18.78 27.86 34.44 17.85 22.46 30.22 21.13 30.17 31.49\n",
      " 26.44 34.88 18.19 25.5  20.71 34.69 21.35 33.99 27.48 26.9  18.06 18.25\n",
      " 33.14 32.56 21.84 20.8  18.21 33.82]\n",
      "Nhiệt độ trung bình: 25.491666666666667\n"
     ]
    }
   ],
   "source": [
    "import numpy as np\n",
    "\n",
    "# Tạo mảng dữ liệu nhiệt độ cho 30 ngày\n",
    "nhiet_do = np.round(np.random.uniform(low=15, high=35, size=30), 2)\n",
    "\n",
    "# Tính nhiệt độ trung bình trong tháng\n",
    "nhiet_do_tb = np.mean(nhiet_do)\n",
    "\n",
    "print(\"Dữ liệu nhiệt độ trong tháng:\", nhiet_do)\n",
    "print(\"Nhiệt độ trung bình:\", nhiet_do_tb)"
   ]
  },
  {
   "cell_type": "code",
   "execution_count": 2,
   "metadata": {},
   "outputs": [
    {
     "name": "stdout",
     "output_type": "stream",
     "text": [
      "Ngày có nhiệt độ cao nhất: 14\n",
      "Ngày có nhiệt độ thấp nhất: 2\n",
      "Ngày có sự chênh lệch nhiệt độ cao nhất: 14\n"
     ]
    }
   ],
   "source": [
    "\n",
    "# Xác định ngày có nhiệt độ cao nhất, thấp nhất\n",
    "ngay_nhiet_do_cao_nhat = np.argmax(nhiet_do) + 1\n",
    "ngay_nhiet_do_thap_nhat = np.argmin(nhiet_do) + 1\n",
    "\n",
    "# Tính sự chênh lệch nhiệt độ giữa các ngày\n",
    "chenh_lech_nhiet_do = np.abs(np.diff(nhiet_do))\n",
    "ngay_chenh_lech_cao_nhat = np.argmax(chenh_lech_nhiet_do) + 1\n",
    "\n",
    "print(f\"Ngày có nhiệt độ cao nhất: {ngay_nhiet_do_cao_nhat}\")\n",
    "print(f\"Ngày có nhiệt độ thấp nhất: {ngay_nhiet_do_thap_nhat}\")\n",
    "print(f\"Ngày có sự chênh lệch nhiệt độ cao nhất: {ngay_chenh_lech_cao_nhat}\")"
   ]
  },
  {
   "cell_type": "code",
   "execution_count": 4,
   "metadata": {},
   "outputs": [
    {
     "name": "stdout",
     "output_type": "stream",
     "text": [
      "Ngày có nhiệt độ cao hơn 20 độ C: [ 3  5  6  8  9 10 11 12 13 14 16 17 18 19 20 21 22 25 26 27 28 30]\n",
      "Nhiệt độ của các ngày 5, 10, 15, 20, 25: [27.86 21.13 18.19 33.99 33.14]\n",
      "Ngày có nhiệt độ trên trung bình: [ 3  5  6  9 11 12 13 14 16 18 20 21 22 25 26 30]\n",
      "Nhiệt độ ngày chẵn: [15.02 18.78 34.44 22.46 21.13 31.49 34.88 25.5  34.69 33.99 26.9  18.25\n",
      " 32.56 20.8  33.82]\n",
      "Nhiệt độ ngày lẻ: [17.22 31.3  27.86 17.85 30.22 30.17 26.44 18.19 20.71 21.35 27.48 18.06\n",
      " 33.14 21.84 18.21]\n"
     ]
    }
   ],
   "source": [
    "# Các ngày có nhiệt độ cao hơn 20 độ C\n",
    "ngay_nhiet_do_cao_hon_20 = np.where(nhiet_do > 20)[0] + 1\n",
    "\n",
    "# Nhiệt độ của các ngày 5, 10, 15, 20, 25\n",
    "nhiet_do_cac_ngay = nhiet_do[[4, 9, 14, 19, 24]]\n",
    "\n",
    "# Nhiệt độ của các ngày có nhiệt độ trên trung bình\n",
    "ngay_nhiet_do_tren_tb = np.where(nhiet_do > nhiet_do_tb)[0] + 1\n",
    "\n",
    "# Nhiệt độ của các ngày chẵn/lẻ\n",
    "nhiet_do_ngay_chan = nhiet_do[1::2]\n",
    "nhiet_do_ngay_le = nhiet_do[0::2]\n",
    "\n",
    "print(\"Ngày có nhiệt độ cao hơn 20 độ C:\", ngay_nhiet_do_cao_hon_20)\n",
    "print(\"Nhiệt độ của các ngày 5, 10, 15, 20, 25:\", nhiet_do_cac_ngay)\n",
    "print(\"Ngày có nhiệt độ trên trung bình:\", ngay_nhiet_do_tren_tb)\n",
    "print(\"Nhiệt độ ngày chẵn:\", nhiet_do_ngay_chan)\n",
    "print(\"Nhiệt độ ngày lẻ:\", nhiet_do_ngay_le)"
   ]
  }
 ],
 "metadata": {
  "kernelspec": {
   "display_name": "Python 3",
   "language": "python",
   "name": "python3"
  },
  "language_info": {
   "codemirror_mode": {
    "name": "ipython",
    "version": 3
   },
   "file_extension": ".py",
   "mimetype": "text/x-python",
   "name": "python",
   "nbconvert_exporter": "python",
   "pygments_lexer": "ipython3",
   "version": "3.12.4"
  }
 },
 "nbformat": 4,
 "nbformat_minor": 2
}
