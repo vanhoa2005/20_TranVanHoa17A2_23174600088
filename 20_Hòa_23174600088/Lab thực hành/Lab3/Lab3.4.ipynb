{
 "cells": [
  {
   "cell_type": "code",
   "execution_count": 1,
   "metadata": {},
   "outputs": [
    {
     "name": "stderr",
     "output_type": "stream",
     "text": [
      "<>:5: SyntaxWarning: invalid escape sequence '\\L'\n",
      "<>:5: SyntaxWarning: invalid escape sequence '\\L'\n",
      "C:\\Users\\LAPTOP TCC\\AppData\\Local\\Temp\\ipykernel_20356\\1406355030.py:5: SyntaxWarning: invalid escape sequence '\\L'\n",
      "  companies = pd.read_csv('D:/17A2KHDL/20_Hòa_23174600088\\Lab3\\companies.csv')\n"
     ]
    },
    {
     "name": "stdout",
     "output_type": "stream",
     "text": [
      "name\n",
      "AAPL    690.016\n",
      "AMZN    691.731\n",
      "FB      677.494\n",
      "GOOG    695.558\n",
      "Name: close, dtype: float64\n"
     ]
    }
   ],
   "source": [
    "import pandas as pd\n",
    "\n",
    "# Đọc file companies.csv vào DataFrame\n",
    "\n",
    "companies = pd.read_csv('D:/17A2KHDL/20_Hòa_23174600088\\Lab3\\companies.csv')\n",
    "\n",
    "# Tạo DataFrame stocks từ dữ liệu cung cấp\n",
    "stocks_data = {\n",
    "    \"date\": [\"01-03-19\", \"04-03-19\", \"05-03-19\", \"06-03-19\", \"07-03-19\"],\n",
    "    \"open\": [684.770, 693.940, 695.664, 696.502, 689.460],\n",
    "    \"high\": [692.52840, 702.39200, 584.92000, 449.53395, 691.47800],\n",
    "    \"low\": [680.4460, 685.1260, 575.0500, 443.7725, 673.8600],\n",
    "    \"close\": [688.952, 694.510, 695.558, 690.016, 677.494]\n",
    "}\n",
    "stocks = pd.DataFrame(stocks_data)\n",
    "\n",
    "# Thêm cột symbol để khớp với tên công ty trong companies\n",
    "stocks['symbol'] = ['AMZN', 'AMZN', 'GOOG', 'AAPL', 'FB']\n",
    "\n",
    "# Kết hợp stocks và companies dựa trên cột 'symbol' và 'name'\n",
    "merged_data = pd.merge(stocks, companies, left_on='symbol', right_on='name')\n",
    "\n",
    "# Tính giá đóng cửa trung bình (close) cho mỗi công ty\n",
    "average_close = merged_data.groupby('name')['close'].mean()\n",
    "\n",
    "# Hiển thị kết quả cho 5 công ty đầu tiên\n",
    "print(average_close.head())"
   ]
  }
 ],
 "metadata": {
  "kernelspec": {
   "display_name": "Python 3",
   "language": "python",
   "name": "python3"
  },
  "language_info": {
   "codemirror_mode": {
    "name": "ipython",
    "version": 3
   },
   "file_extension": ".py",
   "mimetype": "text/x-python",
   "name": "python",
   "nbconvert_exporter": "python",
   "pygments_lexer": "ipython3",
   "version": "3.12.4"
  }
 },
 "nbformat": 4,
 "nbformat_minor": 2
}
