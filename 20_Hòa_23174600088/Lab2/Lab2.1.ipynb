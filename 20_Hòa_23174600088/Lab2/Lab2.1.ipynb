{
 "cells": [
  {
   "cell_type": "code",
   "execution_count": 1,
   "metadata": {},
   "outputs": [
    {
     "name": "stdout",
     "output_type": "stream",
     "text": [
      "Dữ liệu nhiệt độ trong tháng: [20.9  21.85 29.96 33.08 19.91 27.62 28.29 24.65 20.09 30.39 15.38 17.41\n",
      " 34.49 24.47 24.33 29.55 25.73 32.06 34.52 30.2  34.11 16.39 22.83 25.99\n",
      " 25.78 22.29 17.46 21.57 23.37 25.13]\n",
      "Nhiệt độ trung bình: 25.326666666666668\n"
     ]
    }
   ],
   "source": [
    "import numpy as np\n",
    "\n",
    "# Tạo mảng dữ liệu nhiệt độ cho 30 ngày\n",
    "nhiet_do = np.round(np.random.uniform(low=15, high=35, size=30), 2)\n",
    "\n",
    "# Tính nhiệt độ trung bình trong tháng\n",
    "nhiet_do_tb = np.mean(nhiet_do)\n",
    "\n",
    "print(\"Dữ liệu nhiệt độ trong tháng:\", nhiet_do)\n",
    "print(\"Nhiệt độ trung bình:\", nhiet_do_tb)"
   ]
  },
  {
   "cell_type": "code",
   "execution_count": 2,
   "metadata": {},
   "outputs": [
    {
     "name": "stdout",
     "output_type": "stream",
     "text": [
      "Ngày có nhiệt độ cao nhất: 19\n",
      "Ngày có nhiệt độ thấp nhất: 11\n",
      "Ngày có sự chênh lệch nhiệt độ cao nhất: 21\n"
     ]
    }
   ],
   "source": [
    "\n",
    "# Xác định ngày có nhiệt độ cao nhất, thấp nhất\n",
    "ngay_nhiet_do_cao_nhat = np.argmax(nhiet_do) + 1\n",
    "ngay_nhiet_do_thap_nhat = np.argmin(nhiet_do) + 1\n",
    "\n",
    "# Tính sự chênh lệch nhiệt độ giữa các ngày\n",
    "chenh_lech_nhiet_do = np.abs(np.diff(nhiet_do))\n",
    "ngay_chenh_lech_cao_nhat = np.argmax(chenh_lech_nhiet_do) + 1\n",
    "\n",
    "print(f\"Ngày có nhiệt độ cao nhất: {ngay_nhiet_do_cao_nhat}\")\n",
    "print(f\"Ngày có nhiệt độ thấp nhất: {ngay_nhiet_do_thap_nhat}\")\n",
    "print(f\"Ngày có sự chênh lệch nhiệt độ cao nhất: {ngay_chenh_lech_cao_nhat}\")"
   ]
  },
  {
   "cell_type": "code",
   "execution_count": 3,
   "metadata": {},
   "outputs": [
    {
     "name": "stdout",
     "output_type": "stream",
     "text": [
      "Ngày có nhiệt độ cao hơn 20 độ C: [ 1  2  3  4  6  7  8  9 10 13 14 15 16 17 18 19 20 21 23 24 25 26 28 29\n",
      " 30]\n",
      "Nhiệt độ của các ngày 5, 10, 15, 20, 25: [19.91 30.39 24.33 30.2  25.78]\n",
      "Ngày có nhiệt độ trên trung bình: [ 3  4  6  7 10 13 16 17 18 19 20 21 24 25]\n",
      "Nhiệt độ ngày chẵn: [21.85 33.08 27.62 24.65 30.39 17.41 24.47 29.55 32.06 30.2  16.39 25.99\n",
      " 22.29 21.57 25.13]\n",
      "Nhiệt độ ngày lẻ: [20.9  29.96 19.91 28.29 20.09 15.38 34.49 24.33 25.73 34.52 34.11 22.83\n",
      " 25.78 17.46 23.37]\n"
     ]
    }
   ],
   "source": [
    "# Các ngày có nhiệt độ cao hơn 20 độ C\n",
    "ngay_nhiet_do_cao_hon_20 = np.where(nhiet_do > 20)[0] + 1\n",
    "\n",
    "# Nhiệt độ của các ngày 5, 10, 15, 20, 25\n",
    "nhiet_do_cac_ngay = nhiet_do[[4, 9, 14, 19, 24]]\n",
    "\n",
    "# Nhiệt độ của các ngày có nhiệt độ trên trung bình\n",
    "ngay_nhiet_do_tren_tb = np.where(nhiet_do > nhiet_do_tb)[0] + 1\n",
    "\n",
    "# Nhiệt độ của các ngày chẵn/lẻ\n",
    "nhiet_do_ngay_chan = nhiet_do[1::2]\n",
    "nhiet_do_ngay_le = nhiet_do[0::2]\n",
    "\n",
    "print(\"Ngày có nhiệt độ cao hơn 20 độ C:\", ngay_nhiet_do_cao_hon_20)\n",
    "print(\"Nhiệt độ của các ngày 5, 10, 15, 20, 25:\", nhiet_do_cac_ngay)\n",
    "print(\"Ngày có nhiệt độ trên trung bình:\", ngay_nhiet_do_tren_tb)\n",
    "print(\"Nhiệt độ ngày chẵn:\", nhiet_do_ngay_chan)\n",
    "print(\"Nhiệt độ ngày lẻ:\", nhiet_do_ngay_le)"
   ]
  }
 ],
 "metadata": {
  "kernelspec": {
   "display_name": "Python 3",
   "language": "python",
   "name": "python3"
  },
  "language_info": {
   "codemirror_mode": {
    "name": "ipython",
    "version": 3
   },
   "file_extension": ".py",
   "mimetype": "text/x-python",
   "name": "python",
   "nbconvert_exporter": "python",
   "pygments_lexer": "ipython3",
   "version": "3.12.4"
  }
 },
 "nbformat": 4,
 "nbformat_minor": 2
}
