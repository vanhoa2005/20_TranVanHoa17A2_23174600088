{
 "cells": [
  {
   "cell_type": "code",
   "execution_count": 1,
   "metadata": {},
   "outputs": [
    {
     "name": "stdout",
     "output_type": "stream",
     "text": [
      "symbol           AMZN       FB     AAPL     GOOG\n",
      "date                                            \n",
      "Total Volume  26000.0  16000.0  15000.0  13000.0\n"
     ]
    }
   ],
   "source": [
    "import pandas as pd\n",
    "\n",
    "# Dữ liệu cho DataFrame stocks\n",
    "stocks_data = {\n",
    "    \"date\": [\"01-03-19\", \"04-03-19\", \"05-03-19\", \"06-03-19\", \"07-03-19\"],\n",
    "    \"open\": [684.770, 693.940, 695.664, 696.502, 689.460],\n",
    "    \"high\": [692.52840, 702.39200, 584.92000, 449.53395, 691.47800],\n",
    "    \"low\": [680.4460, 685.1260, 575.0500, 443.7725, 673.8600],\n",
    "    \"close\": [688.952, 694.510, 695.558, 690.016, 677.494],\n",
    "    \"volume\": [12000, 14000, 13000, 15000, 16000]\n",
    "}\n",
    "stocks = pd.DataFrame(stocks_data)\n",
    "\n",
    "# Thêm cột symbol để khớp với tên công ty\n",
    "stocks['symbol'] = ['AMZN', 'AMZN', 'GOOG', 'AAPL', 'FB']\n",
    "\n",
    "# 1. Tạo Pivot Table với date làm chỉ mục, symbol làm cột, và giá trị trung bình của close\n",
    "pivot_table = stocks.pivot_table(values='close', index='date', columns='symbol', aggfunc='mean')\n",
    "\n",
    "# 2. Thêm cột tính tổng volume giao dịch cho mỗi mã chứng khoán (symbol)\n",
    "total_volume = stocks.groupby('symbol')['volume'].sum()\n",
    "pivot_table.loc['Total Volume'] = total_volume\n",
    "\n",
    "# 3. Sắp xếp Pivot Table dựa trên tổng volume giao dịch, từ cao xuống thấp\n",
    "sorted_symbols = total_volume.sort_values(ascending=False)\n",
    "sorted_pivot_table = pivot_table[sorted_symbols.index]\n",
    "\n",
    "# 4. Hiển thị kết quả cho 5 mã chứng khoán có tổng volume giao dịch cao nhất\n",
    "result = sorted_pivot_table.loc[['Total Volume']]\n",
    "print(result)"
   ]
  },
  {
   "cell_type": "code",
   "execution_count": null,
   "metadata": {},
   "outputs": [],
   "source": []
  }
 ],
 "metadata": {
  "kernelspec": {
   "display_name": "Python 3",
   "language": "python",
   "name": "python3"
  },
  "language_info": {
   "codemirror_mode": {
    "name": "ipython",
    "version": 3
   },
   "file_extension": ".py",
   "mimetype": "text/x-python",
   "name": "python",
   "nbconvert_exporter": "python",
   "pygments_lexer": "ipython3",
   "version": "3.12.4"
  }
 },
 "nbformat": 4,
 "nbformat_minor": 2
}
