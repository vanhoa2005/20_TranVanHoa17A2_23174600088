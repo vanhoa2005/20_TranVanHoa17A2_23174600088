{
 "cells": [
  {
   "cell_type": "code",
   "execution_count": 1,
   "metadata": {},
   "outputs": [
    {
     "name": "stdout",
     "output_type": "stream",
     "text": [
      "                    open       high       low    close   volume\n",
      "date     symbol                                                \n",
      "01-03-19 AMZN    684.770  692.52840  680.4460  688.952  12000.0\n",
      "04-03-19 AMZN    693.940  702.39200  685.1260  694.510  14000.0\n",
      "05-03-19 GOOG    695.664  584.92000  575.0500  695.558  13000.0\n",
      "06-03-19 AAPL    696.502  449.53395  443.7725  690.016  15000.0\n",
      "07-03-19 FB      689.460  691.47800  673.8600  677.494  16000.0\n"
     ]
    }
   ],
   "source": [
    "import pandas as pd\n",
    "\n",
    "# Dữ liệu cho DataFrame stocks\n",
    "stocks_data = {\n",
    "    \"date\": [\"01-03-19\", \"04-03-19\", \"05-03-19\", \"06-03-19\", \"07-03-19\"],\n",
    "    \"open\": [684.770, 693.940, 695.664, 696.502, 689.460],\n",
    "    \"high\": [692.52840, 702.39200, 584.92000, 449.53395, 691.47800],\n",
    "    \"low\": [680.4460, 685.1260, 575.0500, 443.7725, 673.8600],\n",
    "    \"close\": [688.952, 694.510, 695.558, 690.016, 677.494],\n",
    "    \"volume\": [12000, 14000, 13000, 15000, 16000]\n",
    "}\n",
    "stocks = pd.DataFrame(stocks_data)\n",
    "\n",
    "# Thêm cột symbol để khớp với tên công ty\n",
    "stocks['symbol'] = ['AMZN', 'AMZN', 'GOOG', 'AAPL', 'FB']\n",
    "\n",
    "# 1. Tạo MultiIndex cho DataFrame stocks bằng cột date và symbol\n",
    "stocks.set_index(['date', 'symbol'], inplace=True)\n",
    "\n",
    "# 2. Sử dụng GroupBy để tính giá trung bình (open, high, low, close) và volume\n",
    "grouped_stocks = stocks.groupby(['date', 'symbol']).mean()\n",
    "\n",
    "# 3. Sắp xếp dữ liệu theo ngày và mã chứng khoán\n",
    "sorted_stocks = grouped_stocks.sort_index()\n",
    "\n",
    "# 4. Hiển thị kết quả cho 5 ngày đầu tiên\n",
    "print(sorted_stocks.head())"
   ]
  }
 ],
 "metadata": {
  "kernelspec": {
   "display_name": "Python 3",
   "language": "python",
   "name": "python3"
  },
  "language_info": {
   "codemirror_mode": {
    "name": "ipython",
    "version": 3
   },
   "file_extension": ".py",
   "mimetype": "text/x-python",
   "name": "python",
   "nbconvert_exporter": "python",
   "pygments_lexer": "ipython3",
   "version": "3.12.4"
  }
 },
 "nbformat": 4,
 "nbformat_minor": 2
}
