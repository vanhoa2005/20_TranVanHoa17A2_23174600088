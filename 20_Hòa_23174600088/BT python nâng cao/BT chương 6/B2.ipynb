{
 "cells": [
  {
   "cell_type": "code",
   "execution_count": 1,
   "metadata": {},
   "outputs": [
    {
     "name": "stdout",
     "output_type": "stream",
     "text": [
      "Lỗi khi tải file2.zip: HTTP Error 404: Not Found\n",
      "Lỗi khi tải file3.zip: HTTP Error 404: Not Found\n",
      "Lỗi khi tải file1.zip: HTTP Error 404: Not Found\n"
     ]
    }
   ],
   "source": [
    "import threading\n",
    "import urllib.request\n",
    "\n",
    "def download_file(url, filename):\n",
    "    \"\"\"Hàm tải xuống tệp từ URL và lưu vào tệp local.\"\"\"\n",
    "    try:\n",
    "        urllib.request.urlretrieve(url, filename)\n",
    "        print(f\"Đã tải xong: {filename}\")\n",
    "    except Exception as e:\n",
    "        print(f\"Lỗi khi tải {filename}: {e}\")\n",
    "\n",
    "def main():\n",
    "    # Danh sách URL và tên tệp tương ứng\n",
    "    files_to_download = [\n",
    "        (\"https://example.com/file1.zip\", \"file1.zip\"),\n",
    "        (\"https://example.com/file2.zip\", \"file2.zip\"),\n",
    "        (\"https://example.com/file3.zip\", \"file3.zip\"),\n",
    "    ]\n",
    "\n",
    "    threads = []\n",
    "\n",
    "    # Tạo và khởi chạy luồng cho từng tệp\n",
    "    for url, filename in files_to_download:\n",
    "        thread = threading.Thread(target=download_file, args=(url, filename))\n",
    "        threads.append(thread)\n",
    "        thread.start()\n",
    "\n",
    "    # Chờ tất cả các luồng hoàn thành\n",
    "    for thread in threads:\n",
    "        thread.join()\n",
    "\n",
    "if __name__ == \"__main__\":\n",
    "    main()"
   ]
  }
 ],
 "metadata": {
  "kernelspec": {
   "display_name": "Python 3",
   "language": "python",
   "name": "python3"
  },
  "language_info": {
   "codemirror_mode": {
    "name": "ipython",
    "version": 3
   },
   "file_extension": ".py",
   "mimetype": "text/x-python",
   "name": "python",
   "nbconvert_exporter": "python",
   "pygments_lexer": "ipython3",
   "version": "3.12.4"
  }
 },
 "nbformat": 4,
 "nbformat_minor": 2
}
