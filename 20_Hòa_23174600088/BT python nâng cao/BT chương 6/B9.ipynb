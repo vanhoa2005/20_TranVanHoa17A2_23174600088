{
 "cells": [
  {
   "cell_type": "code",
   "execution_count": 1,
   "metadata": {},
   "outputs": [
    {
     "name": "stdout",
     "output_type": "stream",
     "text": [
      "Starting Google at 2025-01-03 17:58:39\n",
      "Starting Yahoo at 2025-01-03 17:58:39\n",
      "Starting Facebook at 2025-01-03 17:58:39\n",
      "Exiting Google at 2025-01-03 17:58:41\n",
      "Exiting Yahoo at 2025-01-03 17:58:41\n",
      "Exiting Facebook at 2025-01-03 17:58:41\n",
      "All threads have finished.\n"
     ]
    }
   ],
   "source": [
    "import threading\n",
    "import time\n",
    "\n",
    "# Hàm thực hiện công việc của từng luồng\n",
    "def access_website(website):\n",
    "    print(f\"Starting {website} at {time.strftime('%Y-%m-%d %H:%M:%S')}\")\n",
    "    time.sleep(2)  # Giả lập thời gian truy cập website\n",
    "    print(f\"Exiting {website} at {time.strftime('%Y-%m-%d %H:%M:%S')}\")\n",
    "\n",
    "# Danh sách các website cần truy cập\n",
    "websites = [\"Google\", \"Yahoo\", \"Facebook\"]\n",
    "\n",
    "# Tạo danh sách các luồng\n",
    "threads = []\n",
    "\n",
    "for website in websites:\n",
    "    thread = threading.Thread(target=access_website, args=(website,))\n",
    "    threads.append(thread)\n",
    "    thread.start()\n",
    "\n",
    "# Chờ tất cả các luồng hoàn thành\n",
    "for thread in threads:\n",
    "    thread.join()\n",
    "\n",
    "print(\"All threads have finished.\")"
   ]
  }
 ],
 "metadata": {
  "kernelspec": {
   "display_name": "Python 3",
   "language": "python",
   "name": "python3"
  },
  "language_info": {
   "codemirror_mode": {
    "name": "ipython",
    "version": 3
   },
   "file_extension": ".py",
   "mimetype": "text/x-python",
   "name": "python",
   "nbconvert_exporter": "python",
   "pygments_lexer": "ipython3",
   "version": "3.12.4"
  }
 },
 "nbformat": 4,
 "nbformat_minor": 2
}
