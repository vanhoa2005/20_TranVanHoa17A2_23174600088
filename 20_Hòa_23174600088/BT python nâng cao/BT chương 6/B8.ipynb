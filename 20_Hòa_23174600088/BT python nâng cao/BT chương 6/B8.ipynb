{
 "cells": [
  {
   "cell_type": "code",
   "execution_count": 1,
   "metadata": {},
   "outputs": [
    {
     "name": "stdout",
     "output_type": "stream",
     "text": [
      "List: [10, 9]\n",
      "Thread 1: Tổng = 10\n",
      "Thread 2: Tổng = 9\n",
      "Tổng list = 19\n"
     ]
    }
   ],
   "source": [
    "import threading\n",
    "import random\n",
    "\n",
    "def calculate_sum(sub_list, result, index):\n",
    "    \"\"\"Hàm tính tổng các phần tử trong một danh sách con.\"\"\"\n",
    "    result[index] = sum(sub_list)\n",
    "    print(f\"Thread {index + 1}: Tổng = {result[index]}\")\n",
    "\n",
    "def main():\n",
    "    # Nhập số phần tử và số luồng\n",
    "    n = int(input(\"Nhập số phần tử: \"))\n",
    "    num_threads = int(input(\"Nhập vào số thread: \"))\n",
    "\n",
    "    # Tạo danh sách ngẫu nhiên với các giá trị từ 0 đến 10\n",
    "    data = [random.randint(0, 10) for _ in range(n)]\n",
    "    print(f\"List: {data}\")\n",
    "\n",
    "    # Chia danh sách thành các phần\n",
    "    chunk_size = n // num_threads\n",
    "    chunks = [data[i * chunk_size:(i + 1) * chunk_size] for i in range(num_threads - 1)]\n",
    "    chunks.append(data[(num_threads - 1) * chunk_size:])  # Phần còn lại\n",
    "\n",
    "    # Lưu kết quả tổng của từng luồng\n",
    "    result = [0] * num_threads\n",
    "    threads = []\n",
    "\n",
    "    # Tạo và khởi chạy các luồng\n",
    "    for i in range(num_threads):\n",
    "        thread = threading.Thread(target=calculate_sum, args=(chunks[i], result, i))\n",
    "        threads.append(thread)\n",
    "        thread.start()\n",
    "\n",
    "    # Chờ tất cả các luồng hoàn thành\n",
    "    for thread in threads:\n",
    "        thread.join()\n",
    "\n",
    "    # Tính tổng toàn bộ danh sách\n",
    "    total_sum = sum(result)\n",
    "    print(f\"Tổng list = {total_sum}\")\n",
    "\n",
    "if __name__ == \"__main__\":\n",
    "    main()"
   ]
  }
 ],
 "metadata": {
  "kernelspec": {
   "display_name": "Python 3",
   "language": "python",
   "name": "python3"
  },
  "language_info": {
   "codemirror_mode": {
    "name": "ipython",
    "version": 3
   },
   "file_extension": ".py",
   "mimetype": "text/x-python",
   "name": "python",
   "nbconvert_exporter": "python",
   "pygments_lexer": "ipython3",
   "version": "3.12.4"
  }
 },
 "nbformat": 4,
 "nbformat_minor": 2
}
