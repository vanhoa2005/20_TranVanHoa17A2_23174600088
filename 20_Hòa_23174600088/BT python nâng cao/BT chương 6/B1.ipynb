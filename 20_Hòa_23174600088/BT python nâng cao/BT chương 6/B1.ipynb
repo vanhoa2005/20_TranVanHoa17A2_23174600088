{
 "cells": [
  {
   "cell_type": "code",
   "execution_count": 1,
   "metadata": {},
   "outputs": [
    {
     "name": "stdout",
     "output_type": "stream",
     "text": [
      "Thread đang chạy: Thread-1\n",
      "Thread đang chạy: Thread-2\n",
      "Thread đang chạy: Thread-3\n",
      "Thread đang chạy: Thread-4\n",
      "Thread đang chạy: Thread-5\n"
     ]
    }
   ],
   "source": [
    "import threading\n",
    "\n",
    "def print_thread_name():\n",
    "    \"\"\"Hàm in tên của luồng hiện tại.\"\"\"\n",
    "    print(f\"Thread đang chạy: {threading.current_thread().name}\")\n",
    "\n",
    "def main():\n",
    "    # Số lượng luồng muốn tạo\n",
    "    num_threads = 5\n",
    "    threads = []\n",
    "\n",
    "    # Tạo và khởi chạy các luồng\n",
    "    for i in range(num_threads):\n",
    "        thread = threading.Thread(target=print_thread_name, name=f\"Thread-{i+1}\")\n",
    "        threads.append(thread)\n",
    "        thread.start()\n",
    "\n",
    "    # Chờ tất cả các luồng hoàn thành\n",
    "    for thread in threads:\n",
    "        thread.join()\n",
    "\n",
    "if __name__ == \"__main__\":\n",
    "    main()"
   ]
  }
 ],
 "metadata": {
  "kernelspec": {
   "display_name": "Python 3",
   "language": "python",
   "name": "python3"
  },
  "language_info": {
   "codemirror_mode": {
    "name": "ipython",
    "version": 3
   },
   "file_extension": ".py",
   "mimetype": "text/x-python",
   "name": "python",
   "nbconvert_exporter": "python",
   "pygments_lexer": "ipython3",
   "version": "3.12.4"
  }
 },
 "nbformat": 4,
 "nbformat_minor": 2
}
