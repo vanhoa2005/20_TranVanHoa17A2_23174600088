{
 "cells": [
  {
   "cell_type": "code",
   "execution_count": 1,
   "metadata": {},
   "outputs": [
    {
     "name": "stdout",
     "output_type": "stream",
     "text": [
      "URL: https://www.python.org - Status: 200\n",
      "URL: https://www.google.com - Status: 200\n",
      "URL: https://www.github.com - Status: 200\n",
      "URL: https://www.example.com - Status: 200\n"
     ]
    }
   ],
   "source": [
    "import threading\n",
    "from urllib.request import urlopen\n",
    "\n",
    "def fetch_url(url):\n",
    "    \"\"\"Hàm gửi yêu cầu HTTP và in kết quả.\"\"\"\n",
    "    try:\n",
    "        with urlopen(url) as response:\n",
    "            print(f\"URL: {url} - Status: {response.status}\")\n",
    "    except Exception as e:\n",
    "        print(f\"Lỗi khi truy cập {url}: {e}\")\n",
    "\n",
    "def main():\n",
    "    # Danh sách các URL cần gửi yêu cầu\n",
    "    urls = [\n",
    "        \"https://www.google.com\",\n",
    "        \"https://www.python.org\",\n",
    "        \"https://www.github.com\",\n",
    "        \"https://www.example.com\",\n",
    "    ]\n",
    "\n",
    "    threads = []\n",
    "\n",
    "    # Tạo và khởi chạy các luồng để gửi yêu cầu\n",
    "    for url in urls:\n",
    "        thread = threading.Thread(target=fetch_url, args=(url,))\n",
    "        threads.append(thread)\n",
    "        thread.start()\n",
    "\n",
    "    # Chờ tất cả các luồng hoàn thành\n",
    "    for thread in threads:\n",
    "        thread.join()\n",
    "\n",
    "if __name__ == \"__main__\":\n",
    "    main()"
   ]
  }
 ],
 "metadata": {
  "kernelspec": {
   "display_name": "Python 3",
   "language": "python",
   "name": "python3"
  },
  "language_info": {
   "codemirror_mode": {
    "name": "ipython",
    "version": 3
   },
   "file_extension": ".py",
   "mimetype": "text/x-python",
   "name": "python",
   "nbconvert_exporter": "python",
   "pygments_lexer": "ipython3",
   "version": "3.12.4"
  }
 },
 "nbformat": 4,
 "nbformat_minor": 2
}
