{
 "cells": [
  {
   "cell_type": "code",
   "execution_count": 1,
   "metadata": {},
   "outputs": [
    {
     "name": "stdout",
     "output_type": "stream",
     "text": [
      "Số chẵn: 0\n",
      "Số lẻ: 1\n",
      "Số chẵn: 2\n",
      "Số lẻ: 3\n",
      "Số chẵn: 4\n",
      "Số lẻ: 5\n",
      "Số chẵn: 6\n",
      "Số lẻ: 7\n",
      "Số chẵn: 8\n",
      "Số lẻ: 9\n",
      "Số chẵn: 10\n"
     ]
    }
   ],
   "source": [
    "import threading\n",
    "\n",
    "def print_even_numbers(limit, sync_event_odd, sync_event_even):\n",
    "    \"\"\"Luồng in các số chẵn theo thứ tự tăng dần.\"\"\"\n",
    "    for num in range(0, limit + 1, 2):\n",
    "        sync_event_even.wait()  # Chờ tín hiệu từ luồng lẻ\n",
    "        print(f\"Số chẵn: {num}\")\n",
    "        sync_event_even.clear()  # Xóa tín hiệu hiện tại\n",
    "        sync_event_odd.set()  # Báo hiệu luồng lẻ tiếp tục\n",
    "\n",
    "def print_odd_numbers(limit, sync_event_odd, sync_event_even):\n",
    "    \"\"\"Luồng in các số lẻ theo thứ tự tăng dần.\"\"\"\n",
    "    for num in range(1, limit + 1, 2):\n",
    "        sync_event_odd.wait()  # Chờ tín hiệu từ luồng chẵn\n",
    "        print(f\"Số lẻ: {num}\")\n",
    "        sync_event_odd.clear()  # Xóa tín hiệu hiện tại\n",
    "        sync_event_even.set()  # Báo hiệu luồng chẵn tiếp tục\n",
    "\n",
    "def main():\n",
    "    limit = 10  # Ngưỡng tối đa\n",
    "    sync_event_odd = threading.Event()\n",
    "    sync_event_even = threading.Event()\n",
    "\n",
    "    # Bắt đầu với luồng chẵn\n",
    "    sync_event_even.set()\n",
    "\n",
    "    even_thread = threading.Thread(target=print_even_numbers, args=(limit, sync_event_odd, sync_event_even))\n",
    "    odd_thread = threading.Thread(target=print_odd_numbers, args=(limit, sync_event_odd, sync_event_even))\n",
    "\n",
    "    even_thread.start()\n",
    "    odd_thread.start()\n",
    "\n",
    "    even_thread.join()\n",
    "    odd_thread.join()\n",
    "\n",
    "if __name__ == \"__main__\":\n",
    "    main()"
   ]
  }
 ],
 "metadata": {
  "kernelspec": {
   "display_name": "Python 3",
   "language": "python",
   "name": "python3"
  },
  "language_info": {
   "codemirror_mode": {
    "name": "ipython",
    "version": 3
   },
   "file_extension": ".py",
   "mimetype": "text/x-python",
   "name": "python",
   "nbconvert_exporter": "python",
   "pygments_lexer": "ipython3",
   "version": "3.12.4"
  }
 },
 "nbformat": 4,
 "nbformat_minor": 2
}
