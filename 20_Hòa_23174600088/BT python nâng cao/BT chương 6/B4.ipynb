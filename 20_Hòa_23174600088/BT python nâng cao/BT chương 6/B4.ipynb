{
 "cells": [
  {
   "cell_type": "code",
   "execution_count": 1,
   "metadata": {},
   "outputs": [
    {
     "name": "stdout",
     "output_type": "stream",
     "text": [
      "Giai thừa của 10 là: 3628800\n"
     ]
    }
   ],
   "source": [
    "import threading\n",
    "\n",
    "# Biến toàn cục để lưu kết quả giai thừa\n",
    "factorial_result = 1\n",
    "lock = threading.Lock()\n",
    "\n",
    "def calculate_partial_factorial(start, end):\n",
    "    \"\"\"Hàm tính tích các số trong khoảng [start, end].\"\"\"\n",
    "    global factorial_result\n",
    "    partial_result = 1\n",
    "    for num in range(start, end + 1):\n",
    "        partial_result *= num\n",
    "\n",
    "    # Sử dụng khóa để tránh xung đột khi cập nhật kết quả toàn cục\n",
    "    with lock:\n",
    "        factorial_result *= partial_result\n",
    "\n",
    "def main():\n",
    "    number = 10  # Số cần tính giai thừa\n",
    "    num_threads = 4  # Số luồng muốn sử dụng\n",
    "    threads = []\n",
    "    step = number // num_threads\n",
    "\n",
    "    # Chia dãy số thành các phần cho mỗi luồng\n",
    "    for i in range(num_threads):\n",
    "        start = i * step + 1\n",
    "        end = (i + 1) * step if i < num_threads - 1 else number\n",
    "        thread = threading.Thread(target=calculate_partial_factorial, args=(start, end))\n",
    "        threads.append(thread)\n",
    "        thread.start()\n",
    "\n",
    "    # Chờ tất cả các luồng hoàn thành\n",
    "    for thread in threads:\n",
    "        thread.join()\n",
    "\n",
    "    print(f\"Giai thừa của {number} là: {factorial_result}\")\n",
    "\n",
    "if __name__ == \"__main__\":\n",
    "    main()"
   ]
  }
 ],
 "metadata": {
  "kernelspec": {
   "display_name": "Python 3",
   "language": "python",
   "name": "python3"
  },
  "language_info": {
   "codemirror_mode": {
    "name": "ipython",
    "version": 3
   },
   "file_extension": ".py",
   "mimetype": "text/x-python",
   "name": "python",
   "nbconvert_exporter": "python",
   "pygments_lexer": "ipython3",
   "version": "3.12.4"
  }
 },
 "nbformat": 4,
 "nbformat_minor": 2
}
