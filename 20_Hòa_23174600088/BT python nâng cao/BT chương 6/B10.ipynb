{
 "cells": [
  {
   "cell_type": "code",
   "execution_count": null,
   "metadata": {},
   "outputs": [],
   "source": [
    "import threading\n",
    "import random\n",
    "\n",
    "def find_max(sub_list):\n",
    "    \"\"\"Hàm tìm giá trị lớn nhất của một sub-list\"\"\"\n",
    "    return max(sub_list)\n",
    "\n",
    "def main():\n",
    "    # Tạo một list với n phần tử có giá trị ngẫu nhiên từ 0-100\n",
    "    n = 100\n",
    "    list_data = [random.randint(0, 100) for _ in range(n)]\n",
    "\n",
    "    # Chia list thành 4 sub-list\n",
    "    sub_list_size = n // 4\n",
    "    sub_lists = [list_data[i:i+sub_list_size] for i in range(0, n, sub_list_size)]\n",
    "\n",
    "    # Tạo 4 Thread để tìm giá trị lớn nhất của mỗi sub-list\n",
    "    threads = []\n",
    "    max_values = []\n",
    "    for sub_list in sub_lists:\n",
    "        t = threading.Thread(target=lambda: max_values.append(find_max(sub_list)))\n",
    "        t.start()\n",
    "        threads.append(t)\n",
    "\n",
    "    # Chờ các Thread hoàn thành\n",
    "    for t in threads:\n",
    "        t.join()\n",
    "\n",
    "    # Tìm giá trị lớn nhất của toàn bộ list\n",
    "    overall_max = max(max_values)\n",
    "    print(f\"Giá trị lớn nhất trong list: {overall_max}\")\n",
    "\n",
    "if __name__ == \"__main__\":\n",
    "    main()"
   ]
  }
 ],
 "metadata": {
  "kernelspec": {
   "display_name": "Python 3",
   "language": "python",
   "name": "python3"
  },
  "language_info": {
   "name": "python",
   "version": "3.12.4"
  }
 },
 "nbformat": 4,
 "nbformat_minor": 2
}
