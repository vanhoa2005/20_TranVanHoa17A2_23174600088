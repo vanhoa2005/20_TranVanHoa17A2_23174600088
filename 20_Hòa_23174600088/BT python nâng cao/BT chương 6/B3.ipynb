{
 "cells": [
  {
   "cell_type": "code",
   "execution_count": 1,
   "metadata": {},
   "outputs": [
    {
     "name": "stdout",
     "output_type": "stream",
     "text": [
      "Số chẵn:\n",
      "30 32 34 36 38 40 42 44 46 48 50 \n",
      "Số lẻ:\n",
      "31 33 35 37 39 41 43 45 47 49 \n"
     ]
    }
   ],
   "source": [
    "import threading\n",
    "\n",
    "def print_even_numbers(start, end):\n",
    "    \"\"\"Hàm in các số chẵn trong khoảng [start, end].\"\"\"\n",
    "    print(\"Số chẵn:\")\n",
    "    for num in range(start, end + 1):\n",
    "        if num % 2 == 0:\n",
    "            print(num, end=\" \")\n",
    "    print()\n",
    "\n",
    "def print_odd_numbers(start, end):\n",
    "    \"\"\"Hàm in các số lẻ trong khoảng [start, end].\"\"\"\n",
    "    print(\"Số lẻ:\")\n",
    "    for num in range(start, end + 1):\n",
    "        if num % 2 != 0:\n",
    "            print(num, end=\" \")\n",
    "    print()\n",
    "\n",
    "def main():\n",
    "    start = 30\n",
    "    end = 50\n",
    "\n",
    "    # Tạo luồng cho số chẵn và số lẻ\n",
    "    even_thread = threading.Thread(target=print_even_numbers, args=(start, end))\n",
    "    odd_thread = threading.Thread(target=print_odd_numbers, args=(start, end))\n",
    "\n",
    "    # Khởi chạy các luồng\n",
    "    even_thread.start()\n",
    "    odd_thread.start()\n",
    "\n",
    "    # Chờ các luồng hoàn thành\n",
    "    even_thread.join()\n",
    "    odd_thread.join()\n",
    "\n",
    "if __name__ == \"__main__\":\n",
    "    main()"
   ]
  }
 ],
 "metadata": {
  "kernelspec": {
   "display_name": "Python 3",
   "language": "python",
   "name": "python3"
  },
  "language_info": {
   "codemirror_mode": {
    "name": "ipython",
    "version": 3
   },
   "file_extension": ".py",
   "mimetype": "text/x-python",
   "name": "python",
   "nbconvert_exporter": "python",
   "pygments_lexer": "ipython3",
   "version": "3.12.4"
  }
 },
 "nbformat": 4,
 "nbformat_minor": 2
}
