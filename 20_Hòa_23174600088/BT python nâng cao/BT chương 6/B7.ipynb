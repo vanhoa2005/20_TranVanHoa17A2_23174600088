{
 "cells": [
  {
   "cell_type": "code",
   "execution_count": 1,
   "metadata": {},
   "outputs": [
    {
     "name": "stdout",
     "output_type": "stream",
     "text": [
      "Starting Google\n",
      "Google: Fri Jan  3 17:57:20 2025\n",
      "Starting Yahoo\n",
      "Yahoo: Fri Jan  3 17:57:20 2025\n",
      "Starting Facebook\n",
      "Facebook: Fri Jan  3 17:57:20 2025\n",
      "Google: Fri Jan  3 17:57:21 2025\n",
      "Yahoo: Fri Jan  3 17:57:21 2025\n",
      "Facebook: Fri Jan  3 17:57:21 2025\n",
      "Google: Fri Jan  3 17:57:22 2025\n",
      "Yahoo: Fri Jan  3 17:57:22 2025\n",
      "Facebook: Fri Jan  3 17:57:22 2025\n",
      "Google: Fri Jan  3 17:57:23 2025\n",
      "Yahoo: Fri Jan  3 17:57:23 2025\n",
      "Facebook: Fri Jan  3 17:57:23 2025\n",
      "Google: Fri Jan  3 17:57:24 2025\n",
      "Yahoo: Fri Jan  3 17:57:24 2025\n",
      "Facebook: Fri Jan  3 17:57:24 2025\n",
      "Exiting Google\n",
      "Exiting Yahoo\n",
      "Exiting Facebook\n"
     ]
    }
   ],
   "source": [
    "import threading\n",
    "import time\n",
    "\n",
    "def task(name):\n",
    "    \"\"\"Hàm thực hiện nhiệm vụ mô phỏng.\"\"\"\n",
    "    print(f\"Starting {name}\")\n",
    "    for i in range(5):\n",
    "        print(f\"{name}: {time.ctime()}\")\n",
    "        time.sleep(1)  # Tạm dừng 1 giây để mô phỏng công việc\n",
    "    print(f\"Exiting {name}\")\n",
    "\n",
    "def main():\n",
    "    # Danh sách tên các luồng\n",
    "    thread_names = [\"Google\", \"Yahoo\", \"Facebook\"]\n",
    "\n",
    "    threads = []\n",
    "\n",
    "    # Tạo và khởi động các luồng\n",
    "    for name in thread_names:\n",
    "        thread = threading.Thread(target=task, args=(name,))\n",
    "        threads.append(thread)\n",
    "        thread.start()\n",
    "\n",
    "    # Chờ tất cả các luồng hoàn thành\n",
    "    for thread in threads:\n",
    "        thread.join()\n",
    "\n",
    "if __name__ == \"__main__\":\n",
    "    main()"
   ]
  }
 ],
 "metadata": {
  "kernelspec": {
   "display_name": "Python 3",
   "language": "python",
   "name": "python3"
  },
  "language_info": {
   "codemirror_mode": {
    "name": "ipython",
    "version": 3
   },
   "file_extension": ".py",
   "mimetype": "text/x-python",
   "name": "python",
   "nbconvert_exporter": "python",
   "pygments_lexer": "ipython3",
   "version": "3.12.4"
  }
 },
 "nbformat": 4,
 "nbformat_minor": 2
}
