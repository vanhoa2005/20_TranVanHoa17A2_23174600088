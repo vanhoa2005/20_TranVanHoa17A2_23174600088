{
 "cells": [
  {
   "cell_type": "code",
   "execution_count": null,
   "metadata": {},
   "outputs": [],
   "source": [
    "import tkinter as tk\n",
    "\n",
    "# Tạo cửa sổ chính\n",
    "root = tk.Tk()\n",
    "\n",
    "# Đặt tiêu đề cho cửa sổ\n",
    "root.title(\"Cửa sổ GUI với Tkinter\")\n",
    "\n",
    "# Thiết lập kích thước cửa sổ (tuỳ chọn)\n",
    "root.geometry(\"400x300\")  # Rộng 400, cao 300\n",
    "\n",
    "# Hiển thị cửa sổ\n",
    "root.mainloop()"
   ]
  }
 ],
 "metadata": {
  "kernelspec": {
   "display_name": "Python 3",
   "language": "python",
   "name": "python3"
  },
  "language_info": {
   "codemirror_mode": {
    "name": "ipython",
    "version": 3
   },
   "file_extension": ".py",
   "mimetype": "text/x-python",
   "name": "python",
   "nbconvert_exporter": "python",
   "pygments_lexer": "ipython3",
   "version": "3.12.4"
  }
 },
 "nbformat": 4,
 "nbformat_minor": 2
}
