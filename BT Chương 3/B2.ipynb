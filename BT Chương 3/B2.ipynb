{
 "cells": [
  {
   "cell_type": "markdown",
   "metadata": {},
   "source": [
    "3.2.1"
   ]
  },
  {
   "cell_type": "code",
   "execution_count": 4,
   "metadata": {},
   "outputs": [
    {
     "name": "stdout",
     "output_type": "stream",
     "text": [
      "Mảng arr: [0 1 2 3 4 5 6 7 8 9]\n",
      "Kiểu dữ liệu: int64\n",
      "Kích thước: (10,)\n"
     ]
    }
   ],
   "source": [
    "import numpy as np\n",
    "\n",
    "# 1. Tạo mảng arr và hiển thị thông tin\n",
    "arr = np.arange(10)  # Tạo mảng từ 0 đến 9\n",
    "print(\"Mảng arr:\", arr)\n",
    "print(\"Kiểu dữ liệu:\", arr.dtype)\n",
    "print(\"Kích thước:\", arr.shape)"
   ]
  },
  {
   "cell_type": "markdown",
   "metadata": {},
   "source": [
    "3.2.2"
   ]
  },
  {
   "cell_type": "code",
   "execution_count": 3,
   "metadata": {},
   "outputs": [
    {
     "name": "stdout",
     "output_type": "stream",
     "text": [
      "Mảng các số lẻ: [1 3 5 7 9]\n",
      "Mảng các số chẵn: [0 2 4 6 8]\n"
     ]
    }
   ],
   "source": [
    "# 2. Tạo mảng các số lẻ và số chẵn\n",
    "arr_odd = arr[arr % 2 == 1]  # Lọc các số lẻ\n",
    "arr_even = arr[arr % 2 == 0]  # Lọc các số chẵn\n",
    "print(\"Mảng các số lẻ:\", arr_odd)\n",
    "print(\"Mảng các số chẵn:\", arr_even)"
   ]
  },
  {
   "cell_type": "markdown",
   "metadata": {},
   "source": [
    "3.2.3"
   ]
  },
  {
   "cell_type": "code",
   "execution_count": 2,
   "metadata": {},
   "outputs": [
    {
     "name": "stdout",
     "output_type": "stream",
     "text": [
      "Mảng arr_update_1: [  0 100   2 100   4 100   6 100   8 100]\n"
     ]
    }
   ],
   "source": [
    "# 3. Tạo mảng arr_update_1\n",
    "arr_update_1 = np.where(arr % 2 == 1, 100, arr)  # Thay thế các số lẻ bằng 100\n",
    "print(\"Mảng arr_update_1:\", arr_update_1)"
   ]
  }
 ],
 "metadata": {
  "kernelspec": {
   "display_name": "base",
   "language": "python",
   "name": "python3"
  },
  "language_info": {
   "codemirror_mode": {
    "name": "ipython",
    "version": 3
   },
   "file_extension": ".py",
   "mimetype": "text/x-python",
   "name": "python",
   "nbconvert_exporter": "python",
   "pygments_lexer": "ipython3",
   "version": "3.12.7"
  }
 },
 "nbformat": 4,
 "nbformat_minor": 2
}
